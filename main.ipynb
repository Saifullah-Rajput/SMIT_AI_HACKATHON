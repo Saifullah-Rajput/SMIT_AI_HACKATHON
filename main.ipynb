{
 "cells": [
  {
   "cell_type": "code",
   "execution_count": null,
   "id": "cb1a76cf",
   "metadata": {},
   "outputs": [],
   "source": [
    "import requests\n",
    "from bs4 import BeautifulSoup\n",
    "import pandas\n",
    "import matplotlib\n",
    "import streamlit\n",
    "import plotly\n",
    "import selenium"
   ]
  },
  {
   "cell_type": "code",
   "execution_count": 10,
   "id": "d8d94163",
   "metadata": {},
   "outputs": [
    {
     "ename": "NameError",
     "evalue": "name 'requests' is not defined",
     "output_type": "error",
     "traceback": [
      "\u001b[31m---------------------------------------------------------------------------\u001b[39m",
      "\u001b[31mNameError\u001b[39m                                 Traceback (most recent call last)",
      "\u001b[36mCell\u001b[39m\u001b[36m \u001b[39m\u001b[32mIn[10]\u001b[39m\u001b[32m, line 1\u001b[39m\n\u001b[32m----> \u001b[39m\u001b[32m1\u001b[39m web = \u001b[43mrequests\u001b[49m.get(\u001b[33m\"\u001b[39m\u001b[33mhttps://www.linkedin.com/jobs/search/?currentJobId=4230571842&keywords=Software\u001b[39m\u001b[38;5;132;01m%20E\u001b[39;00m\u001b[33mngineer&origin=JOBS_HOME_KEYWORD_SUGGESTION&refresh=true\u001b[39m\u001b[33m\"\u001b[39m)\n\u001b[32m      2\u001b[39m data = BeautifulSoup(web.content,\u001b[33m\"\u001b[39m\u001b[33mhtml.parser\u001b[39m\u001b[33m\"\u001b[39m)\n\u001b[32m      3\u001b[39m \u001b[38;5;28mprint\u001b[39m(data) \n",
      "\u001b[31mNameError\u001b[39m: name 'requests' is not defined"
     ]
    }
   ],
   "source": [
    "web = requests.get(\"https://www.linkedin.com/jobs/search/?currentJobId=4230571842&keywords=Software%20Engineer&origin=JOBS_HOME_KEYWORD_SUGGESTION&refresh=true\")\n",
    "data = BeautifulSoup(web.content,\"html.parser\")\n",
    "print(data) "
   ]
  },
  {
   "cell_type": "code",
   "execution_count": null,
   "id": "22ea88d3",
   "metadata": {},
   "outputs": [
    {
     "ename": "NameError",
     "evalue": "name 'data' is not defined",
     "output_type": "error",
     "traceback": [
      "\u001b[31m---------------------------------------------------------------------------\u001b[39m",
      "\u001b[31mNameError\u001b[39m                                 Traceback (most recent call last)",
      "\u001b[36mCell\u001b[39m\u001b[36m \u001b[39m\u001b[32mIn[5]\u001b[39m\u001b[32m, line 1\u001b[39m\n\u001b[32m----> \u001b[39m\u001b[32m1\u001b[39m Content = \u001b[43mdata\u001b[49m.find_all(\u001b[33m\"\u001b[39m\u001b[33mdiv\u001b[39m\u001b[33m\"\u001b[39m)\n\u001b[32m      2\u001b[39m \u001b[38;5;28mprint\u001b[39m(content)\n",
      "\u001b[31mNameError\u001b[39m: name 'data' is not defined"
     ]
    }
   ],
   "source": [
    "Content = data.find_all(\"div\")\n",
    "print(content)\n",
    "\n",
    "    "
   ]
  },
  {
   "cell_type": "code",
   "execution_count": null,
   "id": "304c27e0",
   "metadata": {},
   "outputs": [],
   "source": []
  },
  {
   "cell_type": "code",
   "execution_count": null,
   "id": "edbe084c",
   "metadata": {},
   "outputs": [],
   "source": []
  },
  {
   "cell_type": "code",
   "execution_count": null,
   "id": "66265050",
   "metadata": {},
   "outputs": [],
   "source": []
  }
 ],
 "metadata": {
  "kernelspec": {
   "display_name": "SmitH",
   "language": "python",
   "name": "python3"
  },
  "language_info": {
   "codemirror_mode": {
    "name": "ipython",
    "version": 3
   },
   "file_extension": ".py",
   "mimetype": "text/x-python",
   "name": "python",
   "nbconvert_exporter": "python",
   "pygments_lexer": "ipython3",
   "version": "3.13.3"
  }
 },
 "nbformat": 4,
 "nbformat_minor": 5
}
